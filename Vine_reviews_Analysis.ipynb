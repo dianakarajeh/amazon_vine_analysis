{
  "nbformat": 4,
  "nbformat_minor": 0,
  "metadata": {
    "colab": {
      "name": "Vine_reviews_Analysis",
      "provenance": []
    },
    "kernelspec": {
      "name": "python3",
      "display_name": "Python 3"
    },
    "language_info": {
      "name": "python"
    }
  },
  "cells": [
    {
      "cell_type": "code",
      "execution_count": 1,
      "metadata": {
        "colab": {
          "base_uri": "https://localhost:8080/"
        },
        "id": "q3GrjnyL01ni",
        "outputId": "c9ffa669-c8d1-4096-fb18-9d543780cd29"
      },
      "outputs": [
        {
          "output_type": "stream",
          "name": "stdout",
          "text": [
            "\r0% [Working]\r            \rGet:1 https://cloud.r-project.org/bin/linux/ubuntu bionic-cran40/ InRelease [3,626 B]\n",
            "Get:2 https://developer.download.nvidia.com/compute/cuda/repos/ubuntu1804/x86_64  InRelease [1,581 B]\n",
            "Get:3 http://security.ubuntu.com/ubuntu bionic-security InRelease [88.7 kB]\n",
            "Ign:4 https://developer.download.nvidia.com/compute/machine-learning/repos/ubuntu1804/x86_64  InRelease\n",
            "Get:5 http://ppa.launchpad.net/c2d4u.team/c2d4u4.0+/ubuntu bionic InRelease [15.9 kB]\n",
            "Hit:6 https://developer.download.nvidia.com/compute/machine-learning/repos/ubuntu1804/x86_64  Release\n",
            "Hit:7 http://archive.ubuntu.com/ubuntu bionic InRelease\n",
            "Get:8 http://archive.ubuntu.com/ubuntu bionic-updates InRelease [88.7 kB]\n",
            "Get:9 https://developer.download.nvidia.com/compute/cuda/repos/ubuntu1804/x86_64  Packages [806 kB]\n",
            "Hit:10 http://ppa.launchpad.net/cran/libgit2/ubuntu bionic InRelease\n",
            "Get:11 http://archive.ubuntu.com/ubuntu bionic-backports InRelease [74.6 kB]\n",
            "Get:13 http://ppa.launchpad.net/deadsnakes/ppa/ubuntu bionic InRelease [15.9 kB]\n",
            "Get:14 http://ppa.launchpad.net/graphics-drivers/ppa/ubuntu bionic InRelease [21.3 kB]\n",
            "Get:15 http://security.ubuntu.com/ubuntu bionic-security/universe amd64 Packages [1,515 kB]\n",
            "Get:16 http://archive.ubuntu.com/ubuntu bionic-updates/main amd64 Packages [3,262 kB]\n",
            "Get:17 http://ppa.launchpad.net/c2d4u.team/c2d4u4.0+/ubuntu bionic/main Sources [1,992 kB]\n",
            "Get:18 http://security.ubuntu.com/ubuntu bionic-security/restricted amd64 Packages [982 kB]\n",
            "Get:19 http://security.ubuntu.com/ubuntu bionic-security/main amd64 Packages [2,830 kB]\n",
            "Get:20 http://archive.ubuntu.com/ubuntu bionic-updates/universe amd64 Packages [2,290 kB]\n",
            "Get:21 http://archive.ubuntu.com/ubuntu bionic-updates/restricted amd64 Packages [1,015 kB]\n",
            "Get:22 http://ppa.launchpad.net/c2d4u.team/c2d4u4.0+/ubuntu bionic/main amd64 Packages [1,021 kB]\n",
            "Get:23 http://ppa.launchpad.net/deadsnakes/ppa/ubuntu bionic/main amd64 Packages [45.3 kB]\n",
            "Get:24 http://ppa.launchpad.net/graphics-drivers/ppa/ubuntu bionic/main amd64 Packages [47.7 kB]\n",
            "Fetched 16.1 MB in 8s (1,998 kB/s)\n",
            "Reading package lists... Done\n"
          ]
        }
      ],
      "source": [
        "import os\n",
        "# Find the latest version of spark 3.0 from http://www.apache.org/dist/spark/ and enter as the spark version\n",
        "# For example:\n",
        "# spark_version = 'spark-3.0.3'\n",
        "spark_version = 'spark-3.0.3'\n",
        "os.environ['SPARK_VERSION']=spark_version\n",
        "\n",
        "# Install Spark and Java\n",
        "!apt-get update\n",
        "!apt-get install openjdk-11-jdk-headless -qq > /dev/null\n",
        "!wget -q http://www.apache.org/dist/spark/$SPARK_VERSION/$SPARK_VERSION-bin-hadoop2.7.tgz\n",
        "!tar xf $SPARK_VERSION-bin-hadoop2.7.tgz\n",
        "!pip install -q findspark\n",
        "\n",
        "# Set Environment Variables\n",
        "import os\n",
        "os.environ[\"JAVA_HOME\"] = \"/usr/lib/jvm/java-11-openjdk-amd64\"\n",
        "os.environ[\"SPARK_HOME\"] = f\"/content/{spark_version}-bin-hadoop2.7\"\n",
        "\n",
        "# Start a SparkSession\n",
        "import findspark\n",
        "findspark.init()"
      ]
    },
    {
      "cell_type": "code",
      "source": [
        "# Download the Postgres driver that will allow Spark to interact with Postgres.\n",
        "!wget https://jdbc.postgresql.org/download/postgresql-42.2.16.jar"
      ],
      "metadata": {
        "colab": {
          "base_uri": "https://localhost:8080/"
        },
        "id": "mX95of5B1DUC",
        "outputId": "8eb69dc2-9f08-4669-f8f7-2ca2e4905a9c"
      },
      "execution_count": 2,
      "outputs": [
        {
          "output_type": "stream",
          "name": "stdout",
          "text": [
            "--2022-06-12 21:31:46--  https://jdbc.postgresql.org/download/postgresql-42.2.16.jar\n",
            "Resolving jdbc.postgresql.org (jdbc.postgresql.org)... 72.32.157.228, 2001:4800:3e1:1::228\n",
            "Connecting to jdbc.postgresql.org (jdbc.postgresql.org)|72.32.157.228|:443... connected.\n",
            "HTTP request sent, awaiting response... 200 OK\n",
            "Length: 1002883 (979K) [application/java-archive]\n",
            "Saving to: ‘postgresql-42.2.16.jar’\n",
            "\n",
            "postgresql-42.2.16. 100%[===================>] 979.38K  1.22MB/s    in 0.8s    \n",
            "\n",
            "2022-06-12 21:31:48 (1.22 MB/s) - ‘postgresql-42.2.16.jar’ saved [1002883/1002883]\n",
            "\n"
          ]
        }
      ]
    },
    {
      "cell_type": "code",
      "source": [
        "from pyspark.sql import SparkSession\n",
        "spark = SparkSession.builder.appName(\"M16-Amazon-Challenge\").config(\"spark.driver.extraClassPath\",\"/content/postgresql-42.2.16.jar\").getOrCreate()"
      ],
      "metadata": {
        "id": "5h9JY9711JKQ"
      },
      "execution_count": 3,
      "outputs": []
    },
    {
      "cell_type": "code",
      "source": [
        "from pyspark import SparkFiles\n",
        "url = \"https://s3.amazonaws.com/amazon-reviews-pds/tsv/index.txt\"\n",
        "spark.sparkContext.addFile(url)\n",
        "df = spark.read.option(\"encoding\", \"UTF-8\").csv(SparkFiles.get(\"\"), sep=\"\\t\", header=True, inferSchema=True)\n",
        "df.show()"
      ],
      "metadata": {
        "colab": {
          "base_uri": "https://localhost:8080/"
        },
        "id": "3et03SH11mua",
        "outputId": "f05a9043-7b36-414e-d430-b7a12d91b69a"
      },
      "execution_count": 6,
      "outputs": [
        {
          "output_type": "stream",
          "name": "stdout",
          "text": [
            "+-----------+-----------+--------------+----------+--------------+--------------------+----------------+-----------+-------------+-----------+----+-----------------+--------------------+--------------------+-----------+\n",
            "|marketplace|customer_id|     review_id|product_id|product_parent|       product_title|product_category|star_rating|helpful_votes|total_votes|vine|verified_purchase|     review_headline|         review_body|review_date|\n",
            "+-----------+-----------+--------------+----------+--------------+--------------------+----------------+-----------+-------------+-----------+----+-----------------+--------------------+--------------------+-----------+\n",
            "|         US|   41409413|R2MTG1GCZLR2DK|B00428R89M|     112201306|yoomall 5M Antenn...|     Electronics|          5|            0|          0|   N|                Y|          Five Stars|       As described.| 2015-08-31|\n",
            "|         US|   49668221|R2HBOEM8LE9928|B000068O48|     734576678|Hosa GPM-103 3.5m...|     Electronics|          5|            0|          0|   N|                Y|It works as adver...|It works as adver...| 2015-08-31|\n",
            "|         US|   12338275|R1P4RW1R9FDPEE|B000GGKOG8|     614448099|Channel Master Ti...|     Electronics|          5|            1|          1|   N|                Y|          Five Stars|         Works pissa| 2015-08-31|\n",
            "|         US|   38487968|R1EBPM82ENI67M|B000NU4OTA|      72265257|LIMTECH Wall char...|     Electronics|          1|            0|          0|   N|                Y|            One Star|Did not work at all.| 2015-08-31|\n",
            "|         US|   23732619|R372S58V6D11AT|B00JOQIO6S|     308169188|Skullcandy Air Ra...|     Electronics|          5|            1|          1|   N|                Y|Overall pleased w...|Works well. Bass ...| 2015-08-31|\n",
            "|         US|   21257820|R1A4514XOYI1PD|B008NCD2LG|     976385982|Pioneer SP-BS22-L...|     Electronics|          5|            1|          1|   N|                Y|          Five Stars|The quality on th...| 2015-08-31|\n",
            "|         US|    3084991|R20D9EHB7N20V6|B00007FGUF|     670878953|C2G/Cables to Go ...|     Electronics|          5|            0|          0|   N|                Y|           Lifesaver|Wish I could give...| 2015-08-31|\n",
            "|         US|    8153674|R1WUTD8MVSROJU|B00M9V2RMM|     508452933|COOLEAD-HDMI Swit...|     Electronics|          5|            0|          0|   N|                Y|          Five Stars|         works great| 2015-08-31|\n",
            "|         US|   52246189|R1QCYLT25812DM|B00J3O9DYI|     766372886|Philips Wireless ...|     Electronics|          4|            0|          0|   N|                Y|          Four Stars|Great sound and c...| 2015-08-31|\n",
            "|         US|   41463864| R904DQPBCEM7A|B00NS1A0E4|     458130381|PlayStation 3 3D ...|     Electronics|          4|            0|          0|   N|                Y|          Four Stars|    It works well~~~| 2015-08-31|\n",
            "|         US|    2781942|R1DGA6UQIVLKZ7|B007B5V092|     152891509|JVC HAFR201A Xtre...|     Electronics|          5|            0|          0|   N|                Y|          Five Stars|           Alll good| 2015-08-31|\n",
            "|         US|     707292| RLQT3V8SMNIBH|B00IODHGVG|     717335277|Sylvania Alarm Cl...|     Electronics|          5|            0|          0|   N|                Y|          Five Stars|Love clock radio ...| 2015-08-31|\n",
            "|         US|   31463514|R3T9GZS2TMXZGM|B0035PBHX6|     249533961|Coby 8 GB 1.8-Inc...|     Electronics|          1|            0|          0|   N|                Y|            One Star|Breaks very easil...| 2015-08-31|\n",
            "|         US|   33475055|R24HVAEYP5PLDN|B00K1JJWFO|     635791633|Diamond (Original...|     Electronics|          5|            0|          1|   N|                Y|          Five Stars|Excellent gain in...| 2015-08-31|\n",
            "|         US|   16543871|R32KMAPNV5NJPJ|B00S3LJ5EA|     659360184|Kingvom 8gb 50 Ho...|     Electronics|          5|            0|          0|   N|                Y|          Five Stars|everything I expe...| 2015-08-31|\n",
            "|         US|   38472651| RC7VLPHUT6UAF|B00B5QNGN6|     564421014|JBL Ultra-Portabl...|     Electronics|          5|            0|          0|   N|                Y|          Five Stars|Love this small s...| 2015-08-31|\n",
            "|         US|   26946211|R3G1II8P4KGUAR|B00PLE8QF6|     685446417|YIPBOWPT Surface ...|     Electronics|          5|            0|          0|   N|                Y|       great product|works as advertis...| 2015-08-31|\n",
            "|         US|   10195727|R1UBFCBUALL6S5|B00GHUSIU6|     595255086|StarTech.com Mini...|     Electronics|          5|            0|          0|   N|                Y|          Five Stars|very good especia...| 2015-08-31|\n",
            "|         US|   47386264|R1WI5NISM6GAUG|B0045EJY90|     892920832|TEAC CD-P650-B Co...|     Electronics|          2|            4|          5|   N|                Y|It does not copy ...|It does not copy ...| 2015-08-31|\n",
            "|         US|   13000908|R27F4OF4BIA4LU|B003BT6BM8|     631236454|Philips SHS8100/2...|     Electronics|          2|            1|          1|   N|                Y|Did not last long...|Did not last long...| 2015-08-31|\n",
            "+-----------+-----------+--------------+----------+--------------+--------------------+----------------+-----------+-------------+-----------+----+-----------------+--------------------+--------------------+-----------+\n",
            "only showing top 20 rows\n",
            "\n"
          ]
        }
      ]
    },
    {
      "cell_type": "code",
      "source": [
        "from pyspark.sql.functions import to_date\n",
        "# Read in the Review dataset as a DataFrame\n",
        "review_df = df.select([\"review_id\",\"customer_id\",\"product_id\",\"product_parent\",\"product_title\",\"review_date\",\"star_rating\", \"helpful_votes\",\"total_votes\",\"vine\",\"verified_purchase\"])\n",
        "review_df.show()"
      ],
      "metadata": {
        "colab": {
          "base_uri": "https://localhost:8080/"
        },
        "id": "NzKuKfX5-XgO",
        "outputId": "5dd06bd1-24d1-4fc3-99e9-60edcc8c970b"
      },
      "execution_count": 7,
      "outputs": [
        {
          "output_type": "stream",
          "name": "stdout",
          "text": [
            "+--------------+-----------+----------+--------------+--------------------+-----------+-----------+-------------+-----------+----+-----------------+\n",
            "|     review_id|customer_id|product_id|product_parent|       product_title|review_date|star_rating|helpful_votes|total_votes|vine|verified_purchase|\n",
            "+--------------+-----------+----------+--------------+--------------------+-----------+-----------+-------------+-----------+----+-----------------+\n",
            "|R2MTG1GCZLR2DK|   41409413|B00428R89M|     112201306|yoomall 5M Antenn...| 2015-08-31|          5|            0|          0|   N|                Y|\n",
            "|R2HBOEM8LE9928|   49668221|B000068O48|     734576678|Hosa GPM-103 3.5m...| 2015-08-31|          5|            0|          0|   N|                Y|\n",
            "|R1P4RW1R9FDPEE|   12338275|B000GGKOG8|     614448099|Channel Master Ti...| 2015-08-31|          5|            1|          1|   N|                Y|\n",
            "|R1EBPM82ENI67M|   38487968|B000NU4OTA|      72265257|LIMTECH Wall char...| 2015-08-31|          1|            0|          0|   N|                Y|\n",
            "|R372S58V6D11AT|   23732619|B00JOQIO6S|     308169188|Skullcandy Air Ra...| 2015-08-31|          5|            1|          1|   N|                Y|\n",
            "|R1A4514XOYI1PD|   21257820|B008NCD2LG|     976385982|Pioneer SP-BS22-L...| 2015-08-31|          5|            1|          1|   N|                Y|\n",
            "|R20D9EHB7N20V6|    3084991|B00007FGUF|     670878953|C2G/Cables to Go ...| 2015-08-31|          5|            0|          0|   N|                Y|\n",
            "|R1WUTD8MVSROJU|    8153674|B00M9V2RMM|     508452933|COOLEAD-HDMI Swit...| 2015-08-31|          5|            0|          0|   N|                Y|\n",
            "|R1QCYLT25812DM|   52246189|B00J3O9DYI|     766372886|Philips Wireless ...| 2015-08-31|          4|            0|          0|   N|                Y|\n",
            "| R904DQPBCEM7A|   41463864|B00NS1A0E4|     458130381|PlayStation 3 3D ...| 2015-08-31|          4|            0|          0|   N|                Y|\n",
            "|R1DGA6UQIVLKZ7|    2781942|B007B5V092|     152891509|JVC HAFR201A Xtre...| 2015-08-31|          5|            0|          0|   N|                Y|\n",
            "| RLQT3V8SMNIBH|     707292|B00IODHGVG|     717335277|Sylvania Alarm Cl...| 2015-08-31|          5|            0|          0|   N|                Y|\n",
            "|R3T9GZS2TMXZGM|   31463514|B0035PBHX6|     249533961|Coby 8 GB 1.8-Inc...| 2015-08-31|          1|            0|          0|   N|                Y|\n",
            "|R24HVAEYP5PLDN|   33475055|B00K1JJWFO|     635791633|Diamond (Original...| 2015-08-31|          5|            0|          1|   N|                Y|\n",
            "|R32KMAPNV5NJPJ|   16543871|B00S3LJ5EA|     659360184|Kingvom 8gb 50 Ho...| 2015-08-31|          5|            0|          0|   N|                Y|\n",
            "| RC7VLPHUT6UAF|   38472651|B00B5QNGN6|     564421014|JBL Ultra-Portabl...| 2015-08-31|          5|            0|          0|   N|                Y|\n",
            "|R3G1II8P4KGUAR|   26946211|B00PLE8QF6|     685446417|YIPBOWPT Surface ...| 2015-08-31|          5|            0|          0|   N|                Y|\n",
            "|R1UBFCBUALL6S5|   10195727|B00GHUSIU6|     595255086|StarTech.com Mini...| 2015-08-31|          5|            0|          0|   N|                Y|\n",
            "|R1WI5NISM6GAUG|   47386264|B0045EJY90|     892920832|TEAC CD-P650-B Co...| 2015-08-31|          2|            4|          5|   N|                Y|\n",
            "|R27F4OF4BIA4LU|   13000908|B003BT6BM8|     631236454|Philips SHS8100/2...| 2015-08-31|          2|            1|          1|   N|                Y|\n",
            "+--------------+-----------+----------+--------------+--------------------+-----------+-----------+-------------+-----------+----+-----------------+\n",
            "only showing top 20 rows\n",
            "\n"
          ]
        }
      ]
    },
    {
      "cell_type": "code",
      "source": [
        "# Create the customers_table DataFrame\n",
        "customers_df = df.groupby(\"customer_id\").agg({\"customer_id\": 'count'}).withColumnRenamed(\"count(customer_id)\", \"customer_count\")\n",
        "customers_df.show()"
      ],
      "metadata": {
        "colab": {
          "base_uri": "https://localhost:8080/"
        },
        "id": "37R-gpL2_UMC",
        "outputId": "04f37f78-c957-4615-89ad-338d5f0f91c4"
      },
      "execution_count": 9,
      "outputs": [
        {
          "output_type": "stream",
          "name": "stdout",
          "text": [
            "+-----------+--------------+\n",
            "|customer_id|customer_count|\n",
            "+-----------+--------------+\n",
            "|   42560427|             6|\n",
            "|   28871066|             1|\n",
            "|    6711334|             2|\n",
            "|   46393060|             1|\n",
            "|   48101124|             1|\n",
            "|   38209321|             1|\n",
            "|   47108763|             4|\n",
            "|   43252205|             1|\n",
            "|   41283385|             1|\n",
            "|   46909180|             5|\n",
            "|    5453476|             2|\n",
            "|   12406466|             3|\n",
            "|   48146680|             1|\n",
            "|    5953456|             1|\n",
            "|   16457323|             5|\n",
            "|   24540309|             1|\n",
            "|   43366878|             2|\n",
            "|   28796717|             1|\n",
            "|   28258386|             1|\n",
            "|   26079415|             2|\n",
            "+-----------+--------------+\n",
            "only showing top 20 rows\n",
            "\n"
          ]
        }
      ]
    },
    {
      "cell_type": "code",
      "source": [
        "# Create the products_table DataFrame and drop duplicates. \n",
        "products_df = review_df.select([\"product_id\",\"product_title\"]).drop_duplicates([\"product_id\"])\n",
        "products_df.show()"
      ],
      "metadata": {
        "colab": {
          "base_uri": "https://localhost:8080/"
        },
        "id": "L60VwB5hAUZr",
        "outputId": "da41e55a-ab88-4ca3-cae5-438709f10cfd"
      },
      "execution_count": 10,
      "outputs": [
        {
          "output_type": "stream",
          "name": "stdout",
          "text": [
            "+----------+--------------------+\n",
            "|product_id|       product_title|\n",
            "+----------+--------------------+\n",
            "|7793224531|Monster Equivalen...|\n",
            "|9985975413|Mobile Excess Dis...|\n",
            "|B000000O3J|Micro Cassette 60...|\n",
            "|B00000JYIZ|Aiwa NSX-MT720 Ho...|\n",
            "|B00001W0DC|Sony MDR-V250V Mo...|\n",
            "|B00003CWDC|Monster Cable MMS...|\n",
            "|B00003CWGY|Monster Z200i-2M ...|\n",
            "|B00004WLM5|Aiwa FRA150 AM/FM...|\n",
            "|B00004Y2XB|Monster Cable I10...|\n",
            "|B00004Y2Z1|Monster Cable MV2...|\n",
            "|B00004Y3TH|Monster Cable Ent...|\n",
            "|B00004Z5AM|Kodak 1038769 CD-...|\n",
            "|B00005LABY|Sharp CD-CH1500 C...|\n",
            "|B00005NIMS|Memorex Dr. Clean...|\n",
            "|B00005NSJS|Aiwa XP-SP920UAB3...|\n",
            "|B00006356Z|MTX Audio MP41B 4...|\n",
            "|B00006453P|Leslie Dame CD-22...|\n",
            "|B000068V32|PDA Plus Leather ...|\n",
            "|B00006ANWY|KLH M365T 6.5\" 3-...|\n",
            "|B00006ANYF|Philips FWC788 3-...|\n",
            "+----------+--------------------+\n",
            "only showing top 20 rows\n",
            "\n"
          ]
        }
      ]
    },
    {
      "cell_type": "code",
      "source": [
        "# Create the review_id_table DataFrame. \n",
        "# Convert the 'review_date' column to a date datatype with to_date(\"review_date\", 'yyyy-MM-dd').alias(\"review_date\")\n",
        "review_id_df = review_df.select([\"review_id\",\"customer_id\", \"product_id\",\"product_parent\", to_date(\"review_date\", 'yyyy-MM-dd').alias(\"review_date\")])\n",
        "review_id_df.show()"
      ],
      "metadata": {
        "colab": {
          "base_uri": "https://localhost:8080/"
        },
        "id": "6Lb1Mo4AAggj",
        "outputId": "0106434a-c9ba-4710-ef43-102a4950047e"
      },
      "execution_count": 11,
      "outputs": [
        {
          "output_type": "stream",
          "name": "stdout",
          "text": [
            "+--------------+-----------+----------+--------------+-----------+\n",
            "|     review_id|customer_id|product_id|product_parent|review_date|\n",
            "+--------------+-----------+----------+--------------+-----------+\n",
            "|R2MTG1GCZLR2DK|   41409413|B00428R89M|     112201306| 2015-08-31|\n",
            "|R2HBOEM8LE9928|   49668221|B000068O48|     734576678| 2015-08-31|\n",
            "|R1P4RW1R9FDPEE|   12338275|B000GGKOG8|     614448099| 2015-08-31|\n",
            "|R1EBPM82ENI67M|   38487968|B000NU4OTA|      72265257| 2015-08-31|\n",
            "|R372S58V6D11AT|   23732619|B00JOQIO6S|     308169188| 2015-08-31|\n",
            "|R1A4514XOYI1PD|   21257820|B008NCD2LG|     976385982| 2015-08-31|\n",
            "|R20D9EHB7N20V6|    3084991|B00007FGUF|     670878953| 2015-08-31|\n",
            "|R1WUTD8MVSROJU|    8153674|B00M9V2RMM|     508452933| 2015-08-31|\n",
            "|R1QCYLT25812DM|   52246189|B00J3O9DYI|     766372886| 2015-08-31|\n",
            "| R904DQPBCEM7A|   41463864|B00NS1A0E4|     458130381| 2015-08-31|\n",
            "|R1DGA6UQIVLKZ7|    2781942|B007B5V092|     152891509| 2015-08-31|\n",
            "| RLQT3V8SMNIBH|     707292|B00IODHGVG|     717335277| 2015-08-31|\n",
            "|R3T9GZS2TMXZGM|   31463514|B0035PBHX6|     249533961| 2015-08-31|\n",
            "|R24HVAEYP5PLDN|   33475055|B00K1JJWFO|     635791633| 2015-08-31|\n",
            "|R32KMAPNV5NJPJ|   16543871|B00S3LJ5EA|     659360184| 2015-08-31|\n",
            "| RC7VLPHUT6UAF|   38472651|B00B5QNGN6|     564421014| 2015-08-31|\n",
            "|R3G1II8P4KGUAR|   26946211|B00PLE8QF6|     685446417| 2015-08-31|\n",
            "|R1UBFCBUALL6S5|   10195727|B00GHUSIU6|     595255086| 2015-08-31|\n",
            "|R1WI5NISM6GAUG|   47386264|B0045EJY90|     892920832| 2015-08-31|\n",
            "|R27F4OF4BIA4LU|   13000908|B003BT6BM8|     631236454| 2015-08-31|\n",
            "+--------------+-----------+----------+--------------+-----------+\n",
            "only showing top 20 rows\n",
            "\n"
          ]
        }
      ]
    },
    {
      "cell_type": "code",
      "source": [
        "# Create the vine_table. DataFrame\n",
        "vine_df = df.select([\"review_id\", \"star_rating\", \"helpful_votes\", \"total_votes\", \"vine\", \"verified_purchase\"])\n",
        "vine_df.show(5)"
      ],
      "metadata": {
        "colab": {
          "base_uri": "https://localhost:8080/"
        },
        "id": "R1-lfFqGAqZE",
        "outputId": "499457f9-7ca5-4522-88a2-b0b76075362d"
      },
      "execution_count": 12,
      "outputs": [
        {
          "output_type": "stream",
          "name": "stdout",
          "text": [
            "+--------------+-----------+-------------+-----------+----+-----------------+\n",
            "|     review_id|star_rating|helpful_votes|total_votes|vine|verified_purchase|\n",
            "+--------------+-----------+-------------+-----------+----+-----------------+\n",
            "|R2MTG1GCZLR2DK|          5|            0|          0|   N|                Y|\n",
            "|R2HBOEM8LE9928|          5|            0|          0|   N|                Y|\n",
            "|R1P4RW1R9FDPEE|          5|            1|          1|   N|                Y|\n",
            "|R1EBPM82ENI67M|          1|            0|          0|   N|                Y|\n",
            "|R372S58V6D11AT|          5|            1|          1|   N|                Y|\n",
            "+--------------+-----------+-------------+-----------+----+-----------------+\n",
            "only showing top 5 rows\n",
            "\n"
          ]
        }
      ]
    },
    {
      "cell_type": "code",
      "source": [
        "# Filter the data and create a new DataFrame or table to retrieve all the rows where the total_votes count is equal to or greater than 20\n",
        "from pyspark.sql.functions import col\n",
        "total_votes_df = vine_df.filter(col(\"total_votes\") >= 20)\n",
        "total_votes_df.show()"
      ],
      "metadata": {
        "colab": {
          "base_uri": "https://localhost:8080/"
        },
        "id": "WUsQWpwzF9U9",
        "outputId": "36b6a607-70d0-4c39-93b0-a9f01704efcd"
      },
      "execution_count": 27,
      "outputs": [
        {
          "output_type": "stream",
          "name": "stdout",
          "text": [
            "+--------------+-----------+-------------+-----------+----+-----------------+\n",
            "|     review_id|star_rating|helpful_votes|total_votes|vine|verified_purchase|\n",
            "+--------------+-----------+-------------+-----------+----+-----------------+\n",
            "|R1FBO737KD9F2N|          5|           19|         23|   N|                Y|\n",
            "|R227GSNWI6BSZV|          1|           20|         20|   N|                Y|\n",
            "|R3SJTYZBYBG4EE|          4|           99|         99|   N|                Y|\n",
            "|R248FG65D76D5Y|          1|           42|         53|   N|                Y|\n",
            "|R3B6BXFKGW52SG|          1|           32|         32|   N|                Y|\n",
            "| ROTIV4VYL31R4|          5|           26|         26|   N|                Y|\n",
            "|R3VQ59LD2LSKY7|          5|           20|         25|   N|                Y|\n",
            "| RIIGLD8JB7PX8|          1|           32|         35|   N|                Y|\n",
            "|R3MUBV21QV0IJK|          3|           77|         84|   N|                Y|\n",
            "|R1V5W0X6BKIJYA|          5|          129|        132|   N|                Y|\n",
            "|R274AKHXHYGIN6|          5|           87|        100|   N|                N|\n",
            "|R184FOUNZZ7KO8|          5|           15|         20|   Y|                N|\n",
            "| RVSZIYT9NB29U|          5|           22|         46|   N|                Y|\n",
            "|R1RDAOSARQUVFJ|          2|            6|         26|   N|                N|\n",
            "| R88RERIQDYDT5|          2|           17|         26|   N|                N|\n",
            "| RLYK7DY9F6RUP|          4|           17|         20|   N|                Y|\n",
            "|R3T31I7IKQ5LFQ|          3|           52|         55|   N|                Y|\n",
            "| RZETLPHZJFYB8|          5|           23|         24|   N|                Y|\n",
            "|R1BG5NL9AX68QE|          1|           23|         29|   N|                Y|\n",
            "|R1Y05HDL2AWCSA|          5|          140|        145|   N|                Y|\n",
            "+--------------+-----------+-------------+-----------+----+-----------------+\n",
            "only showing top 20 rows\n",
            "\n"
          ]
        }
      ]
    },
    {
      "cell_type": "code",
      "source": [
        "# Retrieve all the rows where the number of helpful_votes divided by total_votes is equal to or greater than 50%.\n",
        "percent_votes_df = total_votes_df.withColumn('percent_votes',col('helpful_votes')/col('total_votes')).alias('percent_votes').filter(col(\"percent_votes\") >= 0.5)\n",
        "percent_votes_df.show()"
      ],
      "metadata": {
        "colab": {
          "base_uri": "https://localhost:8080/"
        },
        "id": "F7-GFM6yIuF6",
        "outputId": "0c630b5c-4b86-4980-d64f-aa1b3b29c261"
      },
      "execution_count": 28,
      "outputs": [
        {
          "output_type": "stream",
          "name": "stdout",
          "text": [
            "+--------------+-----------+-------------+-----------+----+-----------------+------------------+\n",
            "|     review_id|star_rating|helpful_votes|total_votes|vine|verified_purchase|     percent_votes|\n",
            "+--------------+-----------+-------------+-----------+----+-----------------+------------------+\n",
            "|R1FBO737KD9F2N|          5|           19|         23|   N|                Y|0.8260869565217391|\n",
            "|R227GSNWI6BSZV|          1|           20|         20|   N|                Y|               1.0|\n",
            "|R3SJTYZBYBG4EE|          4|           99|         99|   N|                Y|               1.0|\n",
            "|R248FG65D76D5Y|          1|           42|         53|   N|                Y|0.7924528301886793|\n",
            "|R3B6BXFKGW52SG|          1|           32|         32|   N|                Y|               1.0|\n",
            "| ROTIV4VYL31R4|          5|           26|         26|   N|                Y|               1.0|\n",
            "|R3VQ59LD2LSKY7|          5|           20|         25|   N|                Y|               0.8|\n",
            "| RIIGLD8JB7PX8|          1|           32|         35|   N|                Y|0.9142857142857143|\n",
            "|R3MUBV21QV0IJK|          3|           77|         84|   N|                Y|0.9166666666666666|\n",
            "|R1V5W0X6BKIJYA|          5|          129|        132|   N|                Y|0.9772727272727273|\n",
            "|R274AKHXHYGIN6|          5|           87|        100|   N|                N|              0.87|\n",
            "|R184FOUNZZ7KO8|          5|           15|         20|   Y|                N|              0.75|\n",
            "| R88RERIQDYDT5|          2|           17|         26|   N|                N|0.6538461538461539|\n",
            "| RLYK7DY9F6RUP|          4|           17|         20|   N|                Y|              0.85|\n",
            "|R3T31I7IKQ5LFQ|          3|           52|         55|   N|                Y|0.9454545454545454|\n",
            "| RZETLPHZJFYB8|          5|           23|         24|   N|                Y|0.9583333333333334|\n",
            "|R1BG5NL9AX68QE|          1|           23|         29|   N|                Y|0.7931034482758621|\n",
            "|R1Y05HDL2AWCSA|          5|          140|        145|   N|                Y|0.9655172413793104|\n",
            "|R20EPERDBI56K8|          1|           30|         37|   N|                Y|0.8108108108108109|\n",
            "| RPTN47ZNQBPWE|          5|           20|         24|   N|                Y|0.8333333333333334|\n",
            "+--------------+-----------+-------------+-----------+----+-----------------+------------------+\n",
            "only showing top 20 rows\n",
            "\n"
          ]
        }
      ]
    },
    {
      "cell_type": "code",
      "source": [
        "# Retrieves all the rows where a review was written as part of the Vine program (paid)\n",
        "paid_df = percent_votes_df.filter(col(\"vine\") == \"Y\").show()"
      ],
      "metadata": {
        "colab": {
          "base_uri": "https://localhost:8080/"
        },
        "id": "sWIG9oqvIvvQ",
        "outputId": "af47c231-21a1-44dc-a6c3-883478bd626e"
      },
      "execution_count": 29,
      "outputs": [
        {
          "output_type": "stream",
          "name": "stdout",
          "text": [
            "+--------------+-----------+-------------+-----------+----+-----------------+------------------+\n",
            "|     review_id|star_rating|helpful_votes|total_votes|vine|verified_purchase|     percent_votes|\n",
            "+--------------+-----------+-------------+-----------+----+-----------------+------------------+\n",
            "|R184FOUNZZ7KO8|          5|           15|         20|   Y|                N|              0.75|\n",
            "| R82QWN2X2OCHB|          5|          176|        208|   Y|                N|0.8461538461538461|\n",
            "|R1UYHBYE6790BU|          5|           44|         53|   Y|                N|0.8301886792452831|\n",
            "|R2J3YLX1L4EH2B|          5|          299|        321|   Y|                N|0.9314641744548287|\n",
            "|R3QDI539WTXKE2|          5|           26|         32|   Y|                N|            0.8125|\n",
            "| RQTPWY6ND2NRV|          4|           37|         37|   Y|                N|               1.0|\n",
            "| RQZSTE0KOBY2G|          4|           98|        109|   Y|                N|0.8990825688073395|\n",
            "| RF2RNZEJO0K1N|          4|           23|         26|   Y|                N|0.8846153846153846|\n",
            "| ROB6VOW41E8O5|          4|          155|        172|   Y|                N|0.9011627906976745|\n",
            "|R3ASMXPEPYY28T|          3|           11|         20|   Y|                N|              0.55|\n",
            "|R1PSDADBJRKB7N|          5|          215|        234|   Y|                N|0.9188034188034188|\n",
            "|R379PSH3FBB6CG|          5|           22|         26|   Y|                N|0.8461538461538461|\n",
            "| R4TBG0DR9Q3R2|          4|           27|         35|   Y|                N|0.7714285714285715|\n",
            "|R3LFHK362GJ77T|          4|           31|         33|   Y|                N|0.9393939393939394|\n",
            "|R1GB60TUTJB5HP|          5|           41|         45|   Y|                N|0.9111111111111111|\n",
            "|R2471U9VXGOMON|          4|          197|        206|   Y|                N|0.9563106796116505|\n",
            "|R24N1S9H53A8QR|          5|           64|         70|   Y|                N|0.9142857142857143|\n",
            "|R2S4BSWNHNX2GG|          5|           54|         61|   Y|                N|0.8852459016393442|\n",
            "|R36FG1XJKLAK36|          5|           23|         27|   Y|                N|0.8518518518518519|\n",
            "|R2ENZ835SOCA46|          4|           26|         30|   Y|                N|0.8666666666666667|\n",
            "+--------------+-----------+-------------+-----------+----+-----------------+------------------+\n",
            "only showing top 20 rows\n",
            "\n"
          ]
        }
      ]
    },
    {
      "cell_type": "code",
      "source": [
        "# Retrieves all the rows where the review was not part of the Vine program (unpaid)\n",
        "non_paid_df = percent_votes_df.filter(col(\"vine\") == \"N\").show()"
      ],
      "metadata": {
        "colab": {
          "base_uri": "https://localhost:8080/"
        },
        "id": "Lt4-_sr6Izg5",
        "outputId": "1f3ed2c2-5be9-434e-ba60-634ab73f9e27"
      },
      "execution_count": 30,
      "outputs": [
        {
          "output_type": "stream",
          "name": "stdout",
          "text": [
            "+--------------+-----------+-------------+-----------+----+-----------------+------------------+\n",
            "|     review_id|star_rating|helpful_votes|total_votes|vine|verified_purchase|     percent_votes|\n",
            "+--------------+-----------+-------------+-----------+----+-----------------+------------------+\n",
            "|R1FBO737KD9F2N|          5|           19|         23|   N|                Y|0.8260869565217391|\n",
            "|R227GSNWI6BSZV|          1|           20|         20|   N|                Y|               1.0|\n",
            "|R3SJTYZBYBG4EE|          4|           99|         99|   N|                Y|               1.0|\n",
            "|R248FG65D76D5Y|          1|           42|         53|   N|                Y|0.7924528301886793|\n",
            "|R3B6BXFKGW52SG|          1|           32|         32|   N|                Y|               1.0|\n",
            "| ROTIV4VYL31R4|          5|           26|         26|   N|                Y|               1.0|\n",
            "|R3VQ59LD2LSKY7|          5|           20|         25|   N|                Y|               0.8|\n",
            "| RIIGLD8JB7PX8|          1|           32|         35|   N|                Y|0.9142857142857143|\n",
            "|R3MUBV21QV0IJK|          3|           77|         84|   N|                Y|0.9166666666666666|\n",
            "|R1V5W0X6BKIJYA|          5|          129|        132|   N|                Y|0.9772727272727273|\n",
            "|R274AKHXHYGIN6|          5|           87|        100|   N|                N|              0.87|\n",
            "| R88RERIQDYDT5|          2|           17|         26|   N|                N|0.6538461538461539|\n",
            "| RLYK7DY9F6RUP|          4|           17|         20|   N|                Y|              0.85|\n",
            "|R3T31I7IKQ5LFQ|          3|           52|         55|   N|                Y|0.9454545454545454|\n",
            "| RZETLPHZJFYB8|          5|           23|         24|   N|                Y|0.9583333333333334|\n",
            "|R1BG5NL9AX68QE|          1|           23|         29|   N|                Y|0.7931034482758621|\n",
            "|R1Y05HDL2AWCSA|          5|          140|        145|   N|                Y|0.9655172413793104|\n",
            "|R20EPERDBI56K8|          1|           30|         37|   N|                Y|0.8108108108108109|\n",
            "| RPTN47ZNQBPWE|          5|           20|         24|   N|                Y|0.8333333333333334|\n",
            "|R3VJ8U3A8MT8II|          5|           17|         21|   N|                Y|0.8095238095238095|\n",
            "+--------------+-----------+-------------+-----------+----+-----------------+------------------+\n",
            "only showing top 20 rows\n",
            "\n"
          ]
        }
      ]
    },
    {
      "cell_type": "code",
      "source": [
        "# Determine the total number of reviews, the number of 5-star reviews, and the percentage of 5-star reviews for the two types of review (paid vs unpaid).\n",
        "\n",
        "from pyspark.sql.functions import col,when,count,lit\n",
        "ratings_total_df = percent_votes_df.groupBy(\"vine\").agg(\n",
        "    count(col(\"vine\")).alias(\"Total_Reviews\"),\n",
        "    count(when(col(\"star_rating\") == 5, True)).alias(\"Total_5_Star_Reviews\"),\n",
        "    (count(when(col(\"star_rating\") == 5, True))/count(col(\"vine\"))*100).alias(\"%_5_Star_To_Total\")).show()"
      ],
      "metadata": {
        "colab": {
          "base_uri": "https://localhost:8080/"
        },
        "id": "yVRRpMIfJaGL",
        "outputId": "6c73198e-25ec-486a-c246-8baad2e89012"
      },
      "execution_count": 32,
      "outputs": [
        {
          "output_type": "stream",
          "name": "stdout",
          "text": [
            "+----+-------------+--------------------+-----------------+\n",
            "|vine|Total_Reviews|Total_5_Star_Reviews|%_5_Star_To_Total|\n",
            "+----+-------------+--------------------+-----------------+\n",
            "|   Y|         1080|                 454|42.03703703703704|\n",
            "|   N|        49673|               23043| 46.3893865882874|\n",
            "+----+-------------+--------------------+-----------------+\n",
            "\n"
          ]
        }
      ]
    }
  ]
}